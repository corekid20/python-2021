{
 "metadata": {
  "language_info": {
   "codemirror_mode": {
    "name": "ipython",
    "version": 3
   },
   "file_extension": ".py",
   "mimetype": "text/x-python",
   "name": "python",
   "nbconvert_exporter": "python",
   "pygments_lexer": "ipython3",
   "version": "3.8.5"
  },
  "orig_nbformat": 2,
  "kernelspec": {
   "name": "python385jvsc74a57bd08c1eae21719a0790335dcb83aad72b63b602cfe5cdb2bda0f60bc11d4f154e4b",
   "display_name": "Python 3.8.5 64-bit ('base': conda)"
  }
 },
 "nbformat": 4,
 "nbformat_minor": 2,
 "cells": [
  {
   "source": [
    "## 함수의 인수"
   ],
   "cell_type": "markdown",
   "metadata": {}
  },
  {
   "source": [
    "### * 위치 인수 (positional argument)\n",
    "### * 키워드 인수 (keyword argument)\n",
    "### * 디폴트 인수 (default argument)\n",
    "### * 가변 인수 (variable-length argument)\n",
    "### * 키워드 가변 인수(keyword variable-length argument)"
   ],
   "cell_type": "markdown",
   "metadata": {}
  },
  {
   "source": [
    "### * 키워드 인수 (keyword argument)"
   ],
   "cell_type": "markdown",
   "metadata": {}
  },
  {
   "cell_type": "code",
   "execution_count": 5,
   "metadata": {},
   "outputs": [],
   "source": [
    "def print_something(my_name, your_name):\n",
    "    print(f'Hello {your_name}, my name is {my_name}')"
   ]
  },
  {
   "cell_type": "code",
   "execution_count": 7,
   "metadata": {},
   "outputs": [
    {
     "output_type": "stream",
     "name": "stdout",
     "text": [
      "Hello Everyone, my name is Sungchul\nHello Everyone, my name is Sungchul\n"
     ]
    }
   ],
   "source": [
    "print_something('Sungchul','Everyone')\n",
    "print_something(your_name='Everyone', my_name='Sungchul')"
   ]
  },
  {
   "source": [
    "### * 디폴트 인수 (default argument)"
   ],
   "cell_type": "markdown",
   "metadata": {}
  },
  {
   "cell_type": "code",
   "execution_count": 9,
   "metadata": {},
   "outputs": [],
   "source": [
    " def print_something2(my_name, your_name='Everyone'):\n",
    "    print(f'Hello {your_name}, my name is {my_name}')"
   ]
  },
  {
   "cell_type": "code",
   "execution_count": 11,
   "metadata": {},
   "outputs": [
    {
     "output_type": "stream",
     "name": "stdout",
     "text": [
      "Hello Everyone, my name is Kildong\nHello Everyone, my name is Kildong\n"
     ]
    }
   ],
   "source": [
    "print_something2('Kildong','Everyone')\n",
    "print_something2('Kildong')"
   ]
  },
  {
   "source": [
    "### * 가변 인수 (variable-length argument)"
   ],
   "cell_type": "markdown",
   "metadata": {}
  },
  {
   "cell_type": "code",
   "execution_count": 12,
   "metadata": {},
   "outputs": [],
   "source": [
    "def summation(*args):\n",
    "    return sum(args)"
   ]
  },
  {
   "cell_type": "code",
   "execution_count": 14,
   "metadata": {},
   "outputs": [
    {
     "output_type": "stream",
     "name": "stdout",
     "text": [
      "3\n10\n15\n"
     ]
    }
   ],
   "source": [
    "print(summation(1,2))\n",
    "print(summation(1,2,3,4))\n",
    "print(summation(1,2,3,4,5))"
   ]
  },
  {
   "cell_type": "code",
   "execution_count": 15,
   "metadata": {},
   "outputs": [],
   "source": [
    "def summation2(a,b,*args):\n",
    "    return a + b + sum(args)\n"
   ]
  },
  {
   "cell_type": "code",
   "execution_count": 18,
   "metadata": {},
   "outputs": [
    {
     "output_type": "stream",
     "name": "stdout",
     "text": [
      "3\n10\n15\n"
     ]
    }
   ],
   "source": [
    "print(summation2(1,2))\n",
    "print(summation2(1,2,3,4))\n",
    "print(summation2(1,2,3,4,5))"
   ]
  },
  {
   "cell_type": "code",
   "execution_count": 40,
   "metadata": {},
   "outputs": [],
   "source": [
    "# ! 위치 인수는 가변 인수보다 (순서가) 먼저 나와야 함 - 안 그럴 시 에러 발생\n",
    "def summation3(c, *args):\n",
    "    return sum(args) + c\n"
   ]
  },
  {
   "cell_type": "code",
   "execution_count": 41,
   "metadata": {},
   "outputs": [
    {
     "output_type": "stream",
     "name": "stdout",
     "text": [
      "3\n"
     ]
    }
   ],
   "source": [
    "print(summation3(1,2))"
   ]
  },
  {
   "source": [
    "### * 키워드 가변 인수(keyword variable-length argument)"
   ],
   "cell_type": "markdown",
   "metadata": {}
  },
  {
   "cell_type": "code",
   "execution_count": 23,
   "metadata": {},
   "outputs": [],
   "source": [
    "def kwargs_test(**kwargs):\n",
    "    print(kwargs)"
   ]
  },
  {
   "cell_type": "code",
   "execution_count": 25,
   "metadata": {},
   "outputs": [
    {
     "output_type": "stream",
     "name": "stdout",
     "text": [
      "{'first': 3, 'second': 4, 'third': 5}\n"
     ]
    }
   ],
   "source": [
    "kwargs_test(first=3,second=4,third=5)"
   ]
  },
  {
   "cell_type": "code",
   "execution_count": 26,
   "metadata": {},
   "outputs": [
    {
     "output_type": "stream",
     "name": "stdout",
     "text": [
      "3\n"
     ]
    }
   ],
   "source": [
    "my_dict = {'first': 3, 'second': 4, 'third': 5}\n",
    "print(my_dict['first']) #my_dict.first는 지원하지 않음"
   ]
  },
  {
   "cell_type": "code",
   "execution_count": 33,
   "metadata": {},
   "outputs": [],
   "source": [
    "def kwargs_test2(**kwargs):\n",
    "    print(kwargs)\n",
    "    print(f\"First value is {kwargs['first']}\")\n",
    "    print(f\"Second value is {kwargs['second']}\")\n",
    "    print(f\"Third value is {kwargs['third']}\")"
   ]
  },
  {
   "cell_type": "code",
   "execution_count": 35,
   "metadata": {},
   "outputs": [
    {
     "output_type": "stream",
     "name": "stdout",
     "text": [
      "{'first': 3, 'second': 4, 'third': 5}\nFirst value is 3\nSecond value is 4\nThird value is 5\n"
     ]
    }
   ],
   "source": [
    "kwargs_test2(first=3,second=4,third=5)"
   ]
  },
  {
   "cell_type": "code",
   "execution_count": 36,
   "metadata": {},
   "outputs": [],
   "source": [
    "def kwargs_test3(first,second=4,**kwargs):\n",
    "    print(f\"First value is {first}\")\n",
    "    print(f\"Second value is {second}\")\n",
    "    print(kwargs)"
   ]
  },
  {
   "cell_type": "code",
   "execution_count": 37,
   "metadata": {},
   "outputs": [
    {
     "output_type": "stream",
     "name": "stdout",
     "text": [
      "First value is 3\nSecond value is 4\n{'third': 5}\n"
     ]
    }
   ],
   "source": [
    "kwargs_test3(first=3,second=4,third=5)"
   ]
  }
 ]
}