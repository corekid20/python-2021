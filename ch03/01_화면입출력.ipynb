{
 "metadata": {
  "language_info": {
   "codemirror_mode": {
    "name": "ipython",
    "version": 3
   },
   "file_extension": ".py",
   "mimetype": "text/x-python",
   "name": "python",
   "nbconvert_exporter": "python",
   "pygments_lexer": "ipython3",
   "version": "3.8.5"
  },
  "orig_nbformat": 2,
  "kernelspec": {
   "name": "python385jvsc74a57bd08c1eae21719a0790335dcb83aad72b63b602cfe5cdb2bda0f60bc11d4f154e4b",
   "display_name": "Python 3.8.5 64-bit ('base': conda)"
  }
 },
 "nbformat": 4,
 "nbformat_minor": 2,
 "cells": [
  {
   "source": [
    "#3장. 화면 입출력과 리스트"
   ],
   "cell_type": "markdown",
   "metadata": {}
  },
  {
   "source": [
    "\n",
    "##1. 파이썬 프로그래밍 환경\n",
    "\n"
   ],
   "cell_type": "markdown",
   "metadata": {}
  },
  {
   "source": [
    "###2. 화면 입출력\n"
   ],
   "cell_type": "markdown",
   "metadata": {}
  },
  {
   "cell_type": "code",
   "execution_count": 4,
   "metadata": {},
   "outputs": [
    {
     "output_type": "stream",
     "name": "stdout",
     "text": [
      "Enter your name:\n",
      "Hi kim How are you?\n",
      "Hi, 265! How are you?\n"
     ]
    }
   ],
   "source": [
    "print('Enter your name:')\n",
    "somebody = input()\n",
    "print('Hi', somebody, 'How are you?')\n",
    "\n",
    "somebody = input('Enter your name> ')\n",
    "print(f'Hi, {somebody}! How are you?')\n",
    "\n"
   ]
  },
  {
   "source": [
    "###3. 화씨온도 변환기\n"
   ],
   "cell_type": "markdown",
   "metadata": {}
  },
  {
   "cell_type": "code",
   "execution_count": null,
   "metadata": {},
   "outputs": [],
   "source": [
    "# celsius의 타입은 문자열\n",
    "celsius = input('섭씨 온도를 입력하세요. ')\n",
    "fahrenheit = float(celsius) * 1.8 + 32\n",
    "print(f'섭씨 온도: {celsius} ==> 화씨 온도: {fahrenheit}')\n",
    "\n",
    "# celsius의 타입은 실수형\n",
    "celsius = float(input('섭씨 온도를 입력하세요. '))\n",
    "fahrenheit = celsius * 1.8 + 32\n",
    "print(f'섭씨 온도: {celsius} ==> 화씨 온도: {fahrenheit:.2f}')"
   ]
  }
 ]
}