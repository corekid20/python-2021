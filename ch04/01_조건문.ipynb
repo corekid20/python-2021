{
 "metadata": {
  "language_info": {
   "codemirror_mode": {
    "name": "ipython",
    "version": 3
   },
   "file_extension": ".py",
   "mimetype": "text/x-python",
   "name": "python",
   "nbconvert_exporter": "python",
   "pygments_lexer": "ipython3",
   "version": "3.8.5"
  },
  "orig_nbformat": 2,
  "kernelspec": {
   "name": "python385jvsc74a57bd08c1eae21719a0790335dcb83aad72b63b602cfe5cdb2bda0f60bc11d4f154e4b",
   "display_name": "Python 3.8.5 64-bit ('base': conda)"
  }
 },
 "nbformat": 4,
 "nbformat_minor": 2,
 "cells": [
  {
   "source": [
    "# 조건문"
   ],
   "cell_type": "markdown",
   "metadata": {}
  },
  {
   "source": [
    "### if - else 문"
   ],
   "cell_type": "markdown",
   "metadata": {}
  },
  {
   "cell_type": "code",
   "execution_count": 39,
   "metadata": {},
   "outputs": [
    {
     "output_type": "error",
     "ename": "ValueError",
     "evalue": "invalid literal for int() with base 10: ''",
     "traceback": [
      "\u001b[1;31m---------------------------------------------------------------------------\u001b[0m",
      "\u001b[1;31mValueError\u001b[0m                                Traceback (most recent call last)",
      "\u001b[1;32m<ipython-input-39-17315f4cb5a2>\u001b[0m in \u001b[0;36m<module>\u001b[1;34m\u001b[0m\n\u001b[1;32m----> 1\u001b[1;33m \u001b[0mage\u001b[0m \u001b[1;33m=\u001b[0m \u001b[0mint\u001b[0m\u001b[1;33m(\u001b[0m\u001b[0minput\u001b[0m\u001b[1;33m(\u001b[0m\u001b[1;34m'Tell me your age'\u001b[0m\u001b[1;33m)\u001b[0m\u001b[1;33m)\u001b[0m\u001b[1;33m\u001b[0m\u001b[1;33m\u001b[0m\u001b[0m\n\u001b[0m\u001b[0;32m      2\u001b[0m \u001b[1;32mif\u001b[0m \u001b[0mage\u001b[0m \u001b[1;33m>\u001b[0m \u001b[1;36m15\u001b[0m \u001b[1;32mand\u001b[0m \u001b[0mage\u001b[0m \u001b[1;33m<\u001b[0m \u001b[1;36m30\u001b[0m\u001b[1;33m:\u001b[0m\u001b[1;33m\u001b[0m\u001b[1;33m\u001b[0m\u001b[0m\n\u001b[0;32m      3\u001b[0m     \u001b[0mprint\u001b[0m\u001b[1;33m(\u001b[0m\u001b[1;34m'Welcome to the Club'\u001b[0m\u001b[1;33m)\u001b[0m\u001b[1;33m\u001b[0m\u001b[1;33m\u001b[0m\u001b[0m\n\u001b[0;32m      4\u001b[0m \u001b[1;32melse\u001b[0m\u001b[1;33m:\u001b[0m\u001b[1;33m\u001b[0m\u001b[1;33m\u001b[0m\u001b[0m\n\u001b[0;32m      5\u001b[0m     \u001b[0mprint\u001b[0m\u001b[1;33m(\u001b[0m\u001b[1;34m'YOu are not accepted'\u001b[0m\u001b[1;33m)\u001b[0m\u001b[1;33m\u001b[0m\u001b[1;33m\u001b[0m\u001b[0m\n",
      "\u001b[1;31mValueError\u001b[0m: invalid literal for int() with base 10: ''"
     ]
    }
   ],
   "source": [
    "age = int(input('Tell me your age'))\n",
    "if age > 15 and age < 30:\n",
    "    print('Welcome to the Club')\n",
    "else:\n",
    "    print('YOu are not accepted')"
   ]
  },
  {
   "source": [
    "### 3항 연산자"
   ],
   "cell_type": "markdown",
   "metadata": {}
  },
  {
   "cell_type": "code",
   "execution_count": 6,
   "metadata": {},
   "outputs": [
    {
     "output_type": "stream",
     "name": "stdout",
     "text": [
      "Welcome to the CLub\n"
     ]
    }
   ],
   "source": [
    "age = int(input('Tell me your age'))\n",
    "msg = 'Welcome to the CLub' if 15 < age < 30 else 'You are not accepted'\n",
    "print(msg)"
   ]
  },
  {
   "source": [
    "### - 조건의 판단"
   ],
   "cell_type": "markdown",
   "metadata": {}
  },
  {
   "cell_type": "code",
   "execution_count": 7,
   "metadata": {},
   "outputs": [
    {
     "output_type": "execute_result",
     "data": {
      "text/plain": [
       "True"
      ]
     },
     "metadata": {},
     "execution_count": 7
    }
   ],
   "source": [
    "3 == 3 or 99998 # or 앞쪽의 값이 True면 or 이후의 값은 중요하지 않음"
   ]
  },
  {
   "cell_type": "code",
   "execution_count": 8,
   "metadata": {},
   "outputs": [
    {
     "output_type": "execute_result",
     "data": {
      "text/plain": [
       "98762"
      ]
     },
     "metadata": {},
     "execution_count": 8
    }
   ],
   "source": [
    "# or 앞쪽의 값이 false면 이후의 값을 계산\n",
    "3 == 4 or 98762"
   ]
  },
  {
   "source": [
    "### 2) if - elif - else"
   ],
   "cell_type": "markdown",
   "metadata": {}
  },
  {
   "cell_type": "code",
   "execution_count": 10,
   "metadata": {},
   "outputs": [
    {
     "output_type": "stream",
     "name": "stdout",
     "text": [
      "D\n"
     ]
    }
   ],
   "source": [
    "score = 98 # 조건의 포함 범위가 갈수록 커지는 방향으로 if 문을 작성하면 틀림\n",
    "if score >= 90:\n",
    "    grade = 'A'\n",
    "if score >= 80:\n",
    "    grade = 'B'\n",
    "if score >= 70:\n",
    "    grade = 'C'\n",
    "if score >= 60:\n",
    "    grade = 'D'\n",
    "if score < 60:\n",
    "    grade = 'F'\n",
    "print(grade)"
   ]
  },
  {
   "cell_type": "code",
   "execution_count": 12,
   "metadata": {},
   "outputs": [
    {
     "output_type": "stream",
     "name": "stdout",
     "text": [
      "F\n"
     ]
    }
   ],
   "source": [
    "score = 58 \n",
    "if score >= 90:\n",
    "    grade = 'A'\n",
    "elif score >= 80:\n",
    "    grade = 'B'\n",
    "elif score >= 70:\n",
    "    grade = 'C'\n",
    "elif score >= 60:\n",
    "    grade = 'D'\n",
    "else:\n",
    "    grade = 'F'\n",
    "print(grade)"
   ]
  },
  {
   "cell_type": "code",
   "execution_count": 14,
   "metadata": {},
   "outputs": [
    {
     "output_type": "stream",
     "name": "stdout",
     "text": [
      "B\n"
     ]
    }
   ],
   "source": [
    "score = 88 \n",
    "grade = 'A' if score >= 90 else \\\n",
    "            'B' if score >= 80 else \\\n",
    "                'C' if score >= 70 else \\\n",
    "                    'D' if score >= 60 else 'F'\n",
    "print(grade)"
   ]
  },
  {
   "source": [
    "### if 응용"
   ],
   "cell_type": "markdown",
   "metadata": {}
  },
  {
   "cell_type": "code",
   "execution_count": 15,
   "metadata": {},
   "outputs": [
    {
     "output_type": "execute_result",
     "data": {
      "text/plain": [
       "datetime.date(2021, 5, 24)"
      ]
     },
     "metadata": {},
     "execution_count": 15
    }
   ],
   "source": [
    "from datetime import date\n",
    "date.today()"
   ]
  },
  {
   "cell_type": "code",
   "execution_count": 17,
   "metadata": {},
   "outputs": [
    {
     "output_type": "execute_result",
     "data": {
      "text/plain": [
       "(2021, 5, 24)"
      ]
     },
     "metadata": {},
     "execution_count": 17
    }
   ],
   "source": [
    "today = date.today()\n",
    "today.year, today.month, today.day"
   ]
  },
  {
   "cell_type": "code",
   "execution_count": 21,
   "metadata": {},
   "outputs": [
    {
     "output_type": "stream",
     "name": "stdout",
     "text": [
      "학생이 아님\n"
     ]
    }
   ],
   "source": [
    "birth_year = int(input('태어난 연도를 입력하세요'))\n",
    "age = today.year - birth_year + 1\n",
    "\n",
    "if 20 <= age <= 26: print('대학생')\n",
    "elif 17 <= age < 20: print('고등학생')\n",
    "elif 14 <= age < 17: print('중학생')\n",
    "elif 8 <= age < 14: print('초등학생')\n",
    "else: print('학생이 아님')\n"
   ]
  },
  {
   "source": [
    "### - Fizzbuzz (연습 문제)"
   ],
   "cell_type": "markdown",
   "metadata": {}
  },
  {
   "cell_type": "code",
   "execution_count": 26,
   "metadata": {},
   "outputs": [
    {
     "output_type": "stream",
     "name": "stdout",
     "text": [
      "1\n2\nFizz\n4\nBuzz\nFizz\n7\n8\nFizz\nBuzz\n11\nFizz\n13\n14\nFizzBuzz\n16\n17\nFizz\n19\nBuzz\nFizz\n22\n23\nFizz\nBuzz\n26\nFizz\n28\n29\nFizzBuzz\n31\n32\nFizz\n34\nBuzz\nFizz\n37\n38\nFizz\nBuzz\n41\nFizz\n43\n44\nFizzBuzz\n46\n47\nFizz\n49\nBuzz\nFizz\n52\n53\nFizz\nBuzz\n56\nFizz\n58\n59\nFizzBuzz\n61\n62\nFizz\n64\nBuzz\nFizz\n67\n68\nFizz\nBuzz\n71\nFizz\n73\n74\nFizzBuzz\n76\n77\nFizz\n79\nBuzz\nFizz\n82\n83\nFizz\nBuzz\n86\nFizz\n88\n89\nFizzBuzz\n91\n92\nFizz\n94\nBuzz\nFizz\n97\n98\nFizz\nBuzz\n"
     ]
    }
   ],
   "source": [
    "for i in range(1, 101):\n",
    "    if i % 3 == 0 and i % 5 == 0: print('FizzBuzz')\n",
    "    elif i % 3 == 0: print('Fizz')\n",
    "    elif i % 5 == 0: print('Buzz')\n",
    "    else: print(i)"
   ]
  },
  {
   "cell_type": "code",
   "execution_count": 28,
   "metadata": {},
   "outputs": [
    {
     "output_type": "stream",
     "name": "stdout",
     "text": [
      "1\n2\nFizz\n4\nBuzz\nFizz\n7\n8\nFizz\nBuzz\n11\nFizz\n13\n14\nFizzBuzz\n16\n17\nFizz\n19\nBuzz\nFizz\n22\n23\nFizz\nBuzz\n26\nFizz\n28\n29\nFizzBuzz\n31\n32\nFizz\n34\nBuzz\nFizz\n37\n38\nFizz\nBuzz\n41\nFizz\n43\n44\nFizzBuzz\n46\n47\nFizz\n49\nBuzz\nFizz\n52\n53\nFizz\nBuzz\n56\nFizz\n58\n59\nFizzBuzz\n61\n62\nFizz\n64\nBuzz\nFizz\n67\n68\nFizz\nBuzz\n71\nFizz\n73\n74\nFizzBuzz\n76\n77\nFizz\n79\nBuzz\nFizz\n82\n83\nFizz\nBuzz\n86\nFizz\n88\n89\nFizzBuzz\n91\n92\nFizz\n94\nBuzz\nFizz\n97\n98\nFizz\nBuzz\n"
     ]
    }
   ],
   "source": [
    "for i in range(1,101):\n",
    "    print('Fizz'*(i%3==0) + 'Buzz'*(i%5==0) or i)"
   ]
  },
  {
   "source": [
    "## 반복문"
   ],
   "cell_type": "markdown",
   "metadata": {}
  },
  {
   "source": [
    "### - for\n",
    "\n"
   ],
   "cell_type": "markdown",
   "metadata": {}
  },
  {
   "cell_type": "code",
   "execution_count": 29,
   "metadata": {},
   "outputs": [
    {
     "output_type": "stream",
     "name": "stdout",
     "text": [
      "Hello World\nHello World\nHello World\nHello World\nHello World\n"
     ]
    }
   ],
   "source": [
    "for i in range(5):\n",
    "    print(\"Hello World\")"
   ]
  },
  {
   "cell_type": "code",
   "execution_count": 30,
   "metadata": {},
   "outputs": [
    {
     "output_type": "stream",
     "name": "stdout",
     "text": [
      "0\n1\n2\n3\n4\n"
     ]
    }
   ],
   "source": [
    "for i in range(5):\n",
    "    print(i)"
   ]
  },
  {
   "cell_type": "code",
   "execution_count": 31,
   "metadata": {},
   "outputs": [
    {
     "output_type": "stream",
     "name": "stdout",
     "text": [
      "1\n3\n5\n7\n9\n"
     ]
    }
   ],
   "source": [
    "# 리스트\n",
    "for i in [1,3,5,7,9]:\n",
    "    print(i)"
   ]
  },
  {
   "cell_type": "code",
   "execution_count": 33,
   "metadata": {},
   "outputs": [
    {
     "output_type": "stream",
     "name": "stdout",
     "text": [
      "1\n3\n5\n7\n9\n"
     ]
    }
   ],
   "source": [
    "# 튜플\n",
    "for i in (1, 3, 5, 7, 9):\n",
    "    print(i)"
   ]
  },
  {
   "cell_type": "code",
   "execution_count": 34,
   "metadata": {},
   "outputs": [
    {
     "output_type": "stream",
     "name": "stdout",
     "text": [
      "H\ne\nl\nl\no\n"
     ]
    }
   ],
   "source": [
    "for char in 'Hello':\n",
    "    print(char)"
   ]
  },
  {
   "cell_type": "code",
   "execution_count": 36,
   "metadata": {},
   "outputs": [
    {
     "output_type": "stream",
     "name": "stdout",
     "text": [
      "I\nLove\nYou\n"
     ]
    }
   ],
   "source": [
    "# 리스트 결과가 나오는 구문\n",
    "for s in 'I Love You'.split():\n",
    "    print(s)"
   ]
  },
  {
   "source": [
    "### 2) while 문"
   ],
   "cell_type": "markdown",
   "metadata": {}
  },
  {
   "cell_type": "code",
   "execution_count": 1,
   "metadata": {},
   "outputs": [
    {
     "output_type": "stream",
     "name": "stdout",
     "text": [
      "1\n2\n3\n4\n5\n"
     ]
    }
   ],
   "source": [
    "i = 1\n",
    "while i < 6:\n",
    "    print(i)\n",
    "    i += 1"
   ]
  },
  {
   "cell_type": "code",
   "execution_count": 6,
   "metadata": {},
   "outputs": [
    {
     "output_type": "stream",
     "name": "stdout",
     "text": [
      "170\n"
     ]
    }
   ],
   "source": [
    "# 사용자가 숫자를 입력\n",
    "# 숫자가 나오면 계속 더하고\n",
    "# 0이 나오면 합계를 출력하는 프로그램\n",
    "\n",
    "sum = 0\n",
    "while True:\n",
    "    num = int(input('정수 입력.'))\n",
    "    if num == 0:\n",
    "        break\n",
    "    sum += num\n",
    "print(sum)"
   ]
  },
  {
   "source": [
    "## 1. 구구단 계산기"
   ],
   "cell_type": "markdown",
   "metadata": {}
  },
  {
   "cell_type": "code",
   "execution_count": 10,
   "metadata": {},
   "outputs": [
    {
     "output_type": "stream",
     "name": "stdout",
     "text": [
      "6 x 1 = 6\n6 x 2 = 12\n6 x 3 = 18\n6 x 4 = 24\n6 x 5 = 30\n6 x 6 = 36\n6 x 7 = 42\n6 x 8 = 48\n6 x 9 = 54\n"
     ]
    }
   ],
   "source": [
    "# 구구단 6단\n",
    "n = 6\n",
    "for i in range(1, 10):\n",
    "    print(f'{n} x {i} = {n*i}')"
   ]
  },
  {
   "source": [
    "## 2. 문자열 역순 출력"
   ],
   "cell_type": "markdown",
   "metadata": {}
  },
  {
   "cell_type": "code",
   "execution_count": 11,
   "metadata": {},
   "outputs": [
    {
     "output_type": "stream",
     "name": "stdout",
     "text": [
      "show - wohs\n"
     ]
    }
   ],
   "source": [
    "sentence = input()\n",
    "reverse_sentence = ''\n",
    "for char in sentence:\n",
    "    reverse_sentence = char + reverse_sentence\n",
    "print(sentence, '-', reverse_sentence)"
   ]
  },
  {
   "source": [
    "## 3. 십진수를 이진수로 변환"
   ],
   "cell_type": "markdown",
   "metadata": {}
  },
  {
   "cell_type": "code",
   "execution_count": 14,
   "metadata": {},
   "outputs": [
    {
     "output_type": "stream",
     "name": "stdout",
     "text": [
      "10100\n"
     ]
    }
   ],
   "source": [
    "num = 20\n",
    "answer = ''\n",
    "while num > 0:\n",
    "    remainder = num % 2\n",
    "    num = num // 2\n",
    "    answer = str(remainder) + answer\n",
    "print(answer)"
   ]
  },
  {
   "source": [
    "## 4. 숫자 찾기 게임"
   ],
   "cell_type": "markdown",
   "metadata": {}
  },
  {
   "cell_type": "code",
   "execution_count": 15,
   "metadata": {},
   "outputs": [],
   "source": [
    "import random\n",
    "random_number =random.randint(1,100)"
   ]
  },
  {
   "cell_type": "code",
   "execution_count": 16,
   "metadata": {},
   "outputs": [
    {
     "output_type": "stream",
     "name": "stdout",
     "text": [
      "숫자카 큽니다\n",
      "빙고. 정답은 39 !!!\n"
     ]
    }
   ],
   "source": [
    "while True:\n",
    "    guess = int(input('1-100 사이의 정수를 찾아보세요.'))\n",
    "    if guess == random_number:\n",
    "        print(f'빙고. 정답은 {guess} !!!')\n",
    "        break\n",
    "    if guess > random_number:\n",
    "        print('숫자카 큽니다')\n",
    "    else:\n",
    "        print('숫자가 작습니다')\n",
    "    "
   ]
  },
  {
   "source": [
    "## 5-1 별표 그리기"
   ],
   "cell_type": "markdown",
   "metadata": {}
  },
  {
   "cell_type": "code",
   "execution_count": 19,
   "metadata": {},
   "outputs": [
    {
     "output_type": "stream",
     "name": "stdout",
     "text": [
      "+\n++\n+++\n++++\n+++++\n"
     ]
    }
   ],
   "source": [
    "for i in range(1,6):\n",
    "    for k in range(i):\n",
    "        print('+', sep='',end='')\n",
    "    print()"
   ]
  },
  {
   "cell_type": "code",
   "execution_count": 30,
   "metadata": {},
   "outputs": [
    {
     "output_type": "stream",
     "name": "stdout",
     "text": [
      "+++++\n ++++\n  +++\n   ++\n    +\n"
     ]
    }
   ],
   "source": [
    "for i in range(1,6):\n",
    "    for k in range(1, i):   #blank 출력\n",
    "        print(' ', sep='',end='')\n",
    "    for k in range(5-i+1):  #별표 출력\n",
    "        print('+', sep='',end='')\n",
    "    print()"
   ]
  }
 ]
}