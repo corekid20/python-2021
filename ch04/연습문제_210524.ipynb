{
 "metadata": {
  "language_info": {
   "codemirror_mode": {
    "name": "ipython",
    "version": 3
   },
   "file_extension": ".py",
   "mimetype": "text/x-python",
   "name": "python",
   "nbconvert_exporter": "python",
   "pygments_lexer": "ipython3",
   "version": "3.8.5"
  },
  "orig_nbformat": 2,
  "kernelspec": {
   "name": "python385jvsc74a57bd08c1eae21719a0790335dcb83aad72b63b602cfe5cdb2bda0f60bc11d4f154e4b",
   "display_name": "Python 3.8.5 64-bit ('base': conda)"
  }
 },
 "nbformat": 4,
 "nbformat_minor": 2,
 "cells": [
  {
   "source": [
    "# 1. 조건문"
   ],
   "cell_type": "markdown",
   "metadata": {}
  },
  {
   "source": [
    "### 1.1 윤년인지 아닌지 출력"
   ],
   "cell_type": "markdown",
   "metadata": {}
  },
  {
   "cell_type": "code",
   "execution_count": 94,
   "metadata": {},
   "outputs": [
    {
     "output_type": "stream",
     "name": "stdout",
     "text": [
      "윤년이 아닙니다\n"
     ]
    }
   ],
   "source": [
    "\n",
    "num = int(input('연도를 입력하시오.'))\n",
    "if num % 4 == 0 and num % 100 != 0 or num % 400 == 0: print(\"윤년입니다\")\n",
    "else: print('윤년이 아닙니다')"
   ]
  },
  {
   "source": [
    "### 1.2 만 나이 구하기"
   ],
   "cell_type": "markdown",
   "metadata": {}
  },
  {
   "cell_type": "code",
   "execution_count": 92,
   "metadata": {},
   "outputs": [
    {
     "output_type": "stream",
     "name": "stdout",
     "text": [
      "만  나이: 26 살\n"
     ]
    }
   ],
   "source": [
    "from datetime import datetime\n",
    "today = date.today()\n",
    "\n",
    "num = input('생년월일 8자리를 입력하세요')\n",
    "\n",
    "year = int(num[0:4])\n",
    "month = int(num[4:6])\n",
    "day = int(num[6:])\n",
    "\n",
    "age = today.year - year\n",
    "\n",
    "if month > datetime.today().month:\n",
    "    age -= 1\n",
    "elif month == datetime.today().month:\n",
    "    if day > datetime.today().day:\n",
    "        age -= 1\n",
    "\n",
    "print(\"만  나이:\", age, \"살\")"
   ]
  },
  {
   "source": [
    "## 1.3 a + b + c = 1000 인 피타고라스 수를 구하기"
   ],
   "cell_type": "markdown",
   "metadata": {}
  },
  {
   "source": [
    "# 2. 반복문"
   ],
   "cell_type": "markdown",
   "metadata": {}
  },
  {
   "source": [
    "## 2.1 별 그리기"
   ],
   "cell_type": "markdown",
   "metadata": {}
  },
  {
   "source": [
    "n = int(input('5 이상 9 이하 홀수 입력: '))\n",
    "for i in range(1, n-1):\n",
    "  print(\" \" * (n-i), \"*\" * (2*i-1))\n",
    "  \n",
    "#for i in range(n-1,1,-1):\n",
    "#  print(\" \" * (n-i), \"*\" * (2*i+1))\n",
    "\n",
    "#푼 곳 까지만 제출합니다.."
   ],
   "cell_type": "code",
   "metadata": {},
   "execution_count": null,
   "outputs": []
  },
  {
   "source": [
    "## 2.2 디지털 시계에 하루동안(00:00~23:59) 3이 표시되는 시간을 초로 환산하면 총 몇 초(second) \u000b일까요?"
   ],
   "cell_type": "markdown",
   "metadata": {}
  },
  {
   "source": [
    "## 2.3 1~1000에서 각 숫자의 개수를 구하시오"
   ],
   "cell_type": "markdown",
   "metadata": {}
  },
  {
   "source": [
    "## 2.4 완전수 출력력"
   ],
   "cell_type": "markdown",
   "metadata": {}
  },
  {
   "source": [
    "## 2.5 \"합의 제곱\"과 \"제곱의 합\"의 차이"
   ],
   "cell_type": "markdown",
   "metadata": {}
  }
 ]
}