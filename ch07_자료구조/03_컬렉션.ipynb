{
 "metadata": {
  "language_info": {
   "codemirror_mode": {
    "name": "ipython",
    "version": 3
   },
   "file_extension": ".py",
   "mimetype": "text/x-python",
   "name": "python",
   "nbconvert_exporter": "python",
   "pygments_lexer": "ipython3",
   "version": "3.8.5"
  },
  "orig_nbformat": 2,
  "kernelspec": {
   "name": "python385jvsc74a57bd08c1eae21719a0790335dcb83aad72b63b602cfe5cdb2bda0f60bc11d4f154e4b",
   "display_name": "Python 3.8.5 64-bit ('base': conda)"
  }
 },
 "nbformat": 4,
 "nbformat_minor": 2,
 "cells": [
  {
   "source": [
    "# Collection"
   ],
   "cell_type": "markdown",
   "metadata": {}
  },
  {
   "source": [
    "## - deque 모듈 (Stack & Queue)"
   ],
   "cell_type": "markdown",
   "metadata": {}
  },
  {
   "cell_type": "code",
   "execution_count": 2,
   "metadata": {},
   "outputs": [
    {
     "output_type": "execute_result",
     "data": {
      "text/plain": [
       "deque([0, 1, 2, 3, 4])"
      ]
     },
     "metadata": {},
     "execution_count": 2
    }
   ],
   "source": [
    "from collections import deque\n",
    "\n",
    "stack = deque()\n",
    "for i in range(5):\n",
    "    stack.append(i)\n",
    "stack"
   ]
  },
  {
   "cell_type": "code",
   "execution_count": 3,
   "metadata": {},
   "outputs": [
    {
     "output_type": "stream",
     "name": "stdout",
     "text": [
      "4\n3\n2\n1\n0\n"
     ]
    }
   ],
   "source": [
    "for _ in range(len(stack)):\n",
    "    print(stack.pop())"
   ]
  },
  {
   "cell_type": "code",
   "execution_count": 4,
   "metadata": {},
   "outputs": [
    {
     "output_type": "execute_result",
     "data": {
      "text/plain": [
       "deque([4, 3, 2, 1, 0])"
      ]
     },
     "metadata": {},
     "execution_count": 4
    }
   ],
   "source": [
    "queue = deque()\n",
    "for i in range(5):\n",
    "    queue.appendleft(i)\n",
    "queue"
   ]
  },
  {
   "cell_type": "code",
   "execution_count": 5,
   "metadata": {},
   "outputs": [
    {
     "output_type": "stream",
     "name": "stdout",
     "text": [
      "0\n1\n2\n3\n4\n"
     ]
    }
   ],
   "source": [
    "for i in range(len(queue)):\n",
    "    print(queue.pop())"
   ]
  },
  {
   "cell_type": "code",
   "execution_count": 6,
   "metadata": {},
   "outputs": [
    {
     "output_type": "execute_result",
     "data": {
      "text/plain": [
       "deque([0, 1, 2, 3, 4])"
      ]
     },
     "metadata": {},
     "execution_count": 6
    }
   ],
   "source": [
    "circular = deque()\n",
    "for i in range(5):\n",
    "    circular.append(i)\n",
    "circular"
   ]
  },
  {
   "cell_type": "code",
   "execution_count": 7,
   "metadata": {},
   "outputs": [
    {
     "output_type": "execute_result",
     "data": {
      "text/plain": [
       "deque([4, 0, 1, 2, 3])"
      ]
     },
     "metadata": {},
     "execution_count": 7
    }
   ],
   "source": [
    "circular.rotate(1)\n",
    "circular"
   ]
  },
  {
   "source": [
    "## - OrderedDict"
   ],
   "cell_type": "markdown",
   "metadata": {}
  },
  {
   "cell_type": "code",
   "execution_count": 8,
   "metadata": {},
   "outputs": [],
   "source": [
    "from collections import OrderedDict\n",
    "\n",
    "\n",
    "d = OrderedDict()\n"
   ]
  },
  {
   "cell_type": "code",
   "execution_count": 9,
   "metadata": {},
   "outputs": [
    {
     "output_type": "stream",
     "name": "stdout",
     "text": [
      "x 100\ny 200\nk 300\n"
     ]
    }
   ],
   "source": [
    "gd = {}\n",
    "gd['x'] = 100\n",
    "gd['y'] = 200\n",
    "gd['k'] = 300\n",
    "\n",
    "for k, v in gd.items():\n",
    "    print(k,v)"
   ]
  },
  {
   "cell_type": "code",
   "execution_count": 10,
   "metadata": {},
   "outputs": [],
   "source": [
    "def sort_by_key(t):\n",
    "    return t[0]"
   ]
  },
  {
   "cell_type": "code",
   "execution_count": 11,
   "metadata": {},
   "outputs": [],
   "source": [
    "for k,v in OrderedDict(sorted(d.items(),key=sort_by_key)).items():\n",
    "    print(k,v)"
   ]
  },
  {
   "source": [
    "## - Counter 모듈"
   ],
   "cell_type": "markdown",
   "metadata": {}
  },
  {
   "cell_type": "code",
   "execution_count": 12,
   "metadata": {},
   "outputs": [
    {
     "output_type": "execute_result",
     "data": {
      "text/plain": [
       "Counter({'g': 1, 'a': 3, 'l': 2, 'h': 1, 'd': 1})"
      ]
     },
     "metadata": {},
     "execution_count": 12
    }
   ],
   "source": [
    "from collections import Counter\n",
    "\n",
    "text = list('gallahad')\n",
    "Counter(text)"
   ]
  },
  {
   "cell_type": "code",
   "execution_count": 13,
   "metadata": {},
   "outputs": [
    {
     "output_type": "execute_result",
     "data": {
      "text/plain": [
       "Counter({'A': 1,\n",
       "         'qucik': 1,\n",
       "         'brown': 1,\n",
       "         'fox': 1,\n",
       "         'jumps': 1,\n",
       "         'over': 1,\n",
       "         'the': 1,\n",
       "         'lazy': 1,\n",
       "         'dog.': 1})"
      ]
     },
     "metadata": {},
     "execution_count": 13
    }
   ],
   "source": [
    "text = 'A qucik brown fox jumps over the lazy dog.'\n",
    "Counter(text.split())"
   ]
  },
  {
   "cell_type": "code",
   "execution_count": null,
   "metadata": {},
   "outputs": [],
   "source": []
  }
 ]
}